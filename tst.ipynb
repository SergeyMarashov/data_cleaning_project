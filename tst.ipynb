{
 "cells": [
  {
   "cell_type": "markdown",
   "metadata": {},
   "source": [
    "*dfdfsdf*\n",
    "\n",
    "ugialy\n",
    "\n",
    "**ddd**\n",
    "\n",
    "$ a_{i+1} = a_{i} + 10 $"
   ]
  },
  {
   "cell_type": "markdown",
   "metadata": {},
   "source": [
    "# Markdown\n",
    "\n",
    "**Markdown** - простой язык разметки.\n",
    "\n",
    "это первая строка <br>а это вторая <br>а это третья\n",
    "\n",
    "_наклон_   *наклон*\n",
    "\n",
    "__Жир__ **жир**\n",
    "\n",
    "___наклон и жир___ ***наклон и жир***"
   ]
  },
  {
   "cell_type": "markdown",
   "metadata": {},
   "source": [
    "# <center> Markdown </center>\n",
    "## capter 1\n",
    "## capter 2\n",
    "### capter 2.1\n",
    "### capter 2.2\n",
    "## capter 3"
   ]
  },
  {
   "cell_type": "markdown",
   "metadata": {},
   "source": [
    "список дел на неделю:\n",
    "* понедельник\n",
    "    1. отправится на почту\n",
    "    2. визит к редактору\n",
    "        - выбор темы\n",
    "        - оформление\n",
    "        - отчет\n",
    "    3. вечеринка\n",
    "* вторник\n",
    "    + график\n",
    "    + рисунок\n"
   ]
  },
  {
   "cell_type": "markdown",
   "metadata": {},
   "source": [
    "* без подсказки — [текст ссылки](http://example.com/link)\n",
    "* c подсказкой — [текст ссылки](http://example.com/link \"Подсказка\")\n",
    "![](https://i.imgur.com/3uj9teq.png) "
   ]
  },
  {
   "cell_type": "markdown",
   "metadata": {},
   "source": [
    "# <center> логотип\n",
    "<center> <img src=https://i.imgur.com/3uj9teq.png width=500px height=30%>"
   ]
  },
  {
   "cell_type": "markdown",
   "metadata": {},
   "source": [
    "``` python\n",
    "lst = [10, 34, 21, 21, 3]\n",
    "summa = sum(lst)\n",
    "kde = True\n",
    "```\n",
    ">>> Большая часть наших знаний"
   ]
  },
  {
   "cell_type": "markdown",
   "metadata": {},
   "source": [
    "Пусть задано выражение:\n",
    "\n",
    "$$a = \\alpha +c,$$\n",
    "\n",
    "где $a=0$\n"
   ]
  },
  {
   "cell_type": "markdown",
   "metadata": {},
   "source": [
    "$ \\forall x \\in X, \\quad \\exists y \\leq \\epsilon \\infty$"
   ]
  },
  {
   "cell_type": "markdown",
   "metadata": {},
   "source": [
    "$x \\equiv a \\pmod{b}$"
   ]
  },
  {
   "cell_type": "markdown",
   "metadata": {},
   "source": [
    "$\\frac{n!}{k!(n-k)!} = \\binom{n}{k}$"
   ]
  },
  {
   "cell_type": "markdown",
   "metadata": {},
   "source": []
  },
  {
   "cell_type": "markdown",
   "metadata": {},
   "source": [
    "$\\frac{\\frac{1}{x}+\\frac{1}{y}}{y-z}$"
   ]
  },
  {
   "cell_type": "markdown",
   "metadata": {},
   "source": [
    "$\\sum_{i=1}^{10} t_i$"
   ]
  },
  {
   "cell_type": "markdown",
   "metadata": {},
   "source": [
    "$\\int_0^\\infty \\mathrm{e}^{-x}\\,\\mathrm{d}x$"
   ]
  },
  {
   "cell_type": "markdown",
   "metadata": {},
   "source": [
    "$( \\big( \\Big( \\bigg( \\Bigg($"
   ]
  },
  {
   "cell_type": "markdown",
   "metadata": {},
   "source": [
    "$\\frac{\\mathrm d}{\\mathrm d x} \\left( k g(x) \\right)$"
   ]
  },
  {
   "cell_type": "markdown",
   "metadata": {},
   "source": [
    "![img src=/design/piramida.jpg]()\n",
    "\n",
    "Незнание очень часто **убивает**\n",
    "\n",
    "*Ум* заостряется от *книг*, словно *меч*\n",
    "\n",
    "Красота — <вещь> субъективная"
   ]
  }
 ],
 "metadata": {
  "language_info": {
   "name": "python"
  }
 },
 "nbformat": 4,
 "nbformat_minor": 2
}
